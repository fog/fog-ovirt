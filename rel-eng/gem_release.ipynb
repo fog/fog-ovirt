{
 "cells": [
  {
   "cell_type": "markdown",
   "metadata": {},
   "source": [
    "# Release of fog-ovirt gem\n",
    "\n",
    "## Requirements\n",
    "- push access to https://github.com/fog/fog-ovirt\n",
    "- push access to rubygems.org for fog-ovirt\n",
    "- sudo yum install transifex-client python-slugify asciidoc\n",
    "- ensure neither the `git push` or `gem push` don't require interractive auth. If you can't use api key or ssh key to auth skip these steps and run them form the shell manually \n",
    "- to push translations you need an account on Transifex\n",
    "\n",
    "## Release process\n",
    "- Follow the steps with `<Shift>+<Enter>` or `<Ctrl>+<Enter>,<Down>`\n",
    "- If anything fails, fix it and re-run the step if applicable\n",
    "\n",
    "## Release settings"
   ]
  },
  {
   "cell_type": "code",
   "execution_count": null,
   "metadata": {},
   "outputs": [],
   "source": [
    "%cd .."
   ]
  },
  {
   "cell_type": "markdown",
   "metadata": {},
   "source": [
    "### Update the following notebook settings"
   ]
  },
  {
   "cell_type": "code",
   "execution_count": null,
   "metadata": {},
   "outputs": [],
   "source": [
    "NEW_VERSION = '1.2.3'\n",
    "LAST_VERSION = '1.2.2'\n",
    "DEVELOP_VERSION = '1.2.0'\n",
    "NEXT_FUTURE_VERSION = '1.2.3'\n",
    "MAJOR_RELEASE = True\n",
    "GIT_REMOTE_UPSTREAM = 'origin'\n",
    "WORK_BRANCH = 'master'"
   ]
  },
  {
   "cell_type": "markdown",
   "metadata": {},
   "source": [
    "### Ensure the repo is up to date"
   ]
  },
  {
   "cell_type": "code",
   "execution_count": null,
   "metadata": {},
   "outputs": [],
   "source": [
    "! git checkout {WORK_BRANCH}"
   ]
  },
  {
   "cell_type": "code",
   "execution_count": null,
   "metadata": {},
   "outputs": [],
   "source": [
    "! git fetch {GIT_REMOTE_UPSTREAM}"
   ]
  },
  {
   "cell_type": "markdown",
   "metadata": {},
   "source": [
    "### Run tests locally"
   ]
  },
  {
   "cell_type": "code",
   "execution_count": null,
   "metadata": {},
   "outputs": [],
   "source": [
    "! bundle update"
   ]
  },
  {
   "cell_type": "code",
   "execution_count": null,
   "metadata": {},
   "outputs": [],
   "source": [
    "! bundle exec rake test"
   ]
  },
  {
   "cell_type": "markdown",
   "metadata": {},
   "source": [
    "### Update release related stuff"
   ]
  },
  {
   "cell_type": "code",
   "execution_count": null,
   "metadata": {},
   "outputs": [],
   "source": [
    "! sed -i 's/VERSION .*/VERSION = \"{NEW_VERSION}.freeze\"/' lib/fog/ovirt/version.rb"
   ]
  },
  {
   "cell_type": "code",
   "execution_count": null,
   "metadata": {},
   "outputs": [],
   "source": [
    "# Parse git changelog\n",
    "from IPython.display import Markdown as md\n",
    "from subprocess import check_output\n",
    "from shlex import split\n",
    "import re\n",
    "\n",
    "def format_log_entry(entry):\n",
    "    issues = re.findall(r'[^(]#([0-9]+)', entry)\n",
    "    entry = re.sub(r'([fF]ixes|[rR]efs)[^-]*-\\s*(.*)', r'\\2', entry)\n",
    "    entry = '* ' + entry.capitalize()\n",
    "    entry = re.sub(r'\\(#([0-9]+)\\)', r'([PR #\\1](https://github.com/fog/fog-ovirt/pull/\\1))', entry)\n",
    "    for i in issues:\n",
    "        referenced_issues.append(i)\n",
    "        entry = entry + ', [#%s](http://projects.theforeman.org/issues/%s)' % (i, i)\n",
    "    return entry\n",
    "\n",
    "def skip(entry):\n",
    "    if re.match(r'Merge pull', entry) or \\\n",
    "      re.match(r'^i18n', entry) or \\\n",
    "      re.match(r'^Bump to version', entry):\n",
    "        return True\n",
    "    else:\n",
    "        return False\n",
    "referenced_issues = []    \n",
    "git_log_cmd = 'git log --pretty=format:\"%%s\" %s..HEAD' % LAST_VERSION\n",
    "log = check_output(split(git_log_cmd)).decode('utf8').split('\\n')\n",
    "change_log = [format_log_entry(e) for e in log if not skip(e)]\n",
    "md('\\n'.join(change_log))\n"
   ]
  },
  {
   "cell_type": "code",
   "execution_count": null,
   "metadata": {},
   "outputs": [],
   "source": [
    "# Write release notes\n",
    "from datetime import datetime\n",
    "import fileinput\n",
    "import sys\n",
    "\n",
    "fh = fileinput.input('release_notes.md', inplace=True)  \n",
    "for line in fh:  \n",
    "    print(line.rstrip())\n",
    "    if re.match(r'========', line):\n",
    "        print('### %s (%s)' % (NEW_VERSION, datetime.today().strftime('%Y-%m-%d')))\n",
    "        for entry in change_log:\n",
    "            print(entry)\n",
    "        print('')\n",
    "fh.close()  "
   ]
  },
  {
   "cell_type": "markdown",
   "metadata": {},
   "source": [
    "# Manual step: Update deps in the gemspec if neccessary"
   ]
  },
  {
   "cell_type": "markdown",
   "metadata": {},
   "source": [
    "### Check what is going to be commited"
   ]
  },
  {
   "cell_type": "code",
   "execution_count": null,
   "metadata": {
    "scrolled": false
   },
   "outputs": [],
   "source": [
    "! git add -u\n",
    "! git status"
   ]
  },
  {
   "cell_type": "code",
   "execution_count": null,
   "metadata": {
    "scrolled": true
   },
   "outputs": [],
   "source": [
    "! git diff --cached"
   ]
  },
  {
   "cell_type": "markdown",
   "metadata": {},
   "source": [
    "### Commit changes"
   ]
  },
  {
   "cell_type": "code",
   "execution_count": null,
   "metadata": {
    "scrolled": true
   },
   "outputs": [],
   "source": [
    "! git commit -m \"Bump to {NEW_VERSION}\""
   ]
  },
  {
   "cell_type": "markdown",
   "metadata": {},
   "source": [
    "### Tag new version"
   ]
  },
  {
   "cell_type": "code",
   "execution_count": null,
   "metadata": {},
   "outputs": [],
   "source": [
    "! git tag {NEW_VERSION}"
   ]
  },
  {
   "cell_type": "markdown",
   "metadata": {},
   "source": [
    "### Build the gem"
   ]
  },
  {
   "cell_type": "code",
   "execution_count": null,
   "metadata": {},
   "outputs": [],
   "source": [
    "! rake build"
   ]
  },
  {
   "cell_type": "code",
   "execution_count": null,
   "metadata": {},
   "outputs": [],
   "source": [
    "! gem push pkg/fog-ovrit-{NEW_VERSION}.gem"
   ]
  },
  {
   "cell_type": "markdown",
   "metadata": {},
   "source": [
    "### PUSH the changes upstream If everything is correct"
   ]
  },
  {
   "cell_type": "code",
   "execution_count": null,
   "metadata": {},
   "outputs": [],
   "source": [
    "! git push {GIT_REMOTE_UPSTREAM} {WORK_BRANCH}"
   ]
  },
  {
   "cell_type": "code",
   "execution_count": null,
   "metadata": {},
   "outputs": [],
   "source": [
    "! git push --tags {GIT_REMOTE_UPSTREAM} {WORK_BRANCH}"
   ]
  },
  {
   "cell_type": "markdown",
   "metadata": {},
   "source": [
    "#### Now the new release is in upstream repo"
   ]
  },
  {
   "cell_type": "markdown",
   "metadata": {},
   "source": [
    "### Some manual steps follow to improve the UX\n",
    "\n",
    "#### New relase on GitHub\n",
    "\n",
    "Copy the following changelog lines to the description in form on link below\n",
    "The release title is the new version."
   ]
  },
  {
   "cell_type": "code",
   "execution_count": null,
   "metadata": {},
   "outputs": [],
   "source": [
    "print('\\n')\n",
    "print('\\n'.join(change_log))\n",
    "print('\\n\\nhttps://github.com/fog/fog-ovirt/releases/new?tag=%s' % NEW_VERSION)"
   ]
  },
  {
   "cell_type": "code",
   "execution_count": null,
   "metadata": {},
   "outputs": [],
   "source": [
    "if not MAJOR_RELEASE:\n",
    "    print('Set fixed in versions to %s in following issues:' % NEW_VERSION)\n",
    "    for i in referenced_issues:\n",
    "        print('- https://projects.theforeman.org/issues/%s' % i)"
   ]
  },
  {
   "cell_type": "markdown",
   "metadata": {},
   "source": [
    "## Congratulations\n",
    "\n",
    "Release is public now."
   ]
  }
 ],
 "metadata": {
  "kernelspec": {
   "display_name": "Python 3",
   "language": "python",
   "name": "python3"
  },
  "language_info": {
   "codemirror_mode": {
    "name": "ipython",
    "version": 3
   },
   "file_extension": ".py",
   "mimetype": "text/x-python",
   "name": "python",
   "nbconvert_exporter": "python",
   "pygments_lexer": "ipython3",
   "version": "3.7.5"
  }
 },
 "nbformat": 4,
 "nbformat_minor": 2
}
